{
 "cells": [
  {
   "attachments": {
    "imagen.png": {
     "image/png": "[encoded data removed]"
    }
   },
   "cell_type": "markdown",
   "metadata": {},
   "source": [
    "# Map Generator\n",
    "\n",
    "On this notebook we present a implementation of a hybrid system comining ad-hoc techniques with L-System to create a procedural algorithm to create artificial cities that aim to be reliable cities to test our techniques.\n",
    "\n",
    "![imagen.png](attachment:imagen.png)"
   ]
  },
  {
   "cell_type": "code",
   "execution_count": 1,
   "metadata": {},
   "outputs": [],
   "source": [
    "import random\n",
    "import matplotlib.pyplot as plt\n",
    "from matplotlib import colors\n",
    "import numpy as np\n",
    "from tqdm import tqdm"
   ]
  },
  {
   "cell_type": "code",
   "execution_count": 2,
   "metadata": {},
   "outputs": [],
   "source": [
    "def randomGauss(mean, stdev, max_t, min_t = 1):\n",
    "    return max(min(int(random.gauss(mean, stdev)), max_t), 1)"
   ]
  },
  {
   "cell_type": "code",
   "execution_count": 17,
   "metadata": {},
   "outputs": [],
   "source": [
    "# Constants\n",
    "n_iter = 7\n",
    "i_width = 40\n",
    "i_height = 40\n",
    "\n",
    "w_mean = i_width/2\n",
    "h_mean = i_height/2\n",
    "\n",
    "w_stdev = i_width/8\n",
    "h_stdev = i_height/8\n",
    "\n",
    "alpha = 0.8\n",
    "ran_val = 4"
   ]
  },
  {
   "cell_type": "code",
   "execution_count": 18,
   "metadata": {},
   "outputs": [],
   "source": [
    "# Variable \n",
    "# [width, height, x , y , h/v]\n",
    "\n",
    "x1 = randomGauss(i_width/3, w_stdev, 2*int(i_width/3))\n",
    "y1 = randomGauss(i_height/3, h_stdev, 2*int(i_height/3))\n",
    "x2 = x1 + randomGauss( (i_width-x1-2-int(i_width/4))/2 , (i_width-x1-2)/6, i_width-x1-2) + int(i_width/4)\n",
    "y2 = y1+max(min(int(random.gauss((i_height-y1-2-int(i_height/4))/2,(i_height-y1-2)/12)),(i_height-y1-2)),1)+int(i_height/4)\n",
    "\n",
    "axiom = [ [x1,y1,0,0,0],[x2-x1-2,y1,x1+2,0,0],[i_width-x2-2,y1,x2+2,0,0]\n",
    "         ,[x1,y2-y1-2,0,y1+2,0],[x2-x1-2,y2-y1-2,x1+2,y1+2,0], [i_width-x2-2,y2-y1-2,x2+2,y1+2,0]\n",
    "         ,[x1,i_height-y2-2,0,y2+2,0], [x2-x1-2,i_height-y2-2,x1+2,y2+2,0], [i_width-x2-2,i_height-y2-2,x2+2,y2+2,0]]\n",
    "for j in axiom:\n",
    "    j[4] = 0 if j[0]>j[1] else 1"
   ]
  },
  {
   "cell_type": "markdown",
   "metadata": {},
   "source": [
    "Definition of rules of the program"
   ]
  },
  {
   "cell_type": "code",
   "execution_count": 19,
   "metadata": {},
   "outputs": [],
   "source": [
    "def apply_rules(a):\n",
    "    if(a[0]<=4 or a[1]<=4):\n",
    "        return [a]\n",
    "    elif(random.uniform(0, 1) < alpha):\n",
    "        grad = a[a[4]]\n",
    "        n_var = randomGauss(grad/2, grad/6, grad-2, 2)\n",
    "        \n",
    "        cas1 = [n_var,a[(a[4]+1)%2],a[2+a[4]],a[2+(1+a[4])%2],1]\n",
    "        cas2 = [a[a[4]]-n_var-1,a[(a[4]+1)%2],a[2+a[4]]+n_var+1,a[2+(1+a[4])%2],1]\n",
    "        \n",
    "        if(a[4]==1):\n",
    "            cas1 = [cas1[1],cas1[0],cas1[3],cas1[2],0]\n",
    "            cas2 = [cas2[1],cas2[0],cas2[3],cas2[2],0]\n",
    "            \n",
    "        return cas1,cas2\n",
    "    else:\n",
    "        return [a]"
   ]
  },
  {
   "cell_type": "markdown",
   "metadata": {},
   "source": [
    "Main function of the L-System"
   ]
  },
  {
   "cell_type": "code",
   "execution_count": 20,
   "metadata": {},
   "outputs": [
    {
     "name": "stderr",
     "output_type": "stream",
     "text": [
      "100%|████████████████████████████████████████████████████████████████████████████████████████████| 7/7 [00:00<?, ?it/s]\n"
     ]
    }
   ],
   "source": [
    "\n",
    "cvar = axiom.copy()\n",
    "\n",
    "for _ in tqdm(range(n_iter)):\n",
    "    cvar2 = []\n",
    "    for a in cvar:\n",
    "        cvar2 += apply_rules(a)\n",
    "    cvar = cvar2.copy()\n",
    "    \n",
    "\n",
    "mapa = [[0 for j in range(i_width)] for j in range(i_height)]\n",
    "for j in cvar:\n",
    "    for a1 in range(j[2],j[2]+j[0]):\n",
    "        for a2 in range(j[3], j[3]+j[1]):\n",
    "            mapa[a2][a1] = 1"
   ]
  },
  {
   "cell_type": "code",
   "execution_count": 21,
   "metadata": {},
   "outputs": [
    {
     "data": {
      "text/plain": [
       "<matplotlib.image.AxesImage at 0x2123752e198>"
      ]
     },
     "execution_count": 21,
     "metadata": {},
     "output_type": "execute_result"
    },
    {
     "data": {
      "image/png": "[encoded data removed]",
      "text/plain": [
       "<Figure size 432x288 with 1 Axes>"
      ]
     },
     "metadata": {
      "needs_background": "light"
     },
     "output_type": "display_data"
    }
   ],
   "source": [
    "plt.imshow(mapa, interpolation='nearest', \n",
    "                 extent=[0, i_width, 0, i_height],\n",
    "                 cmap='YlGn')"
   ]
  },
  {
   "cell_type": "code",
   "execution_count": null,
   "metadata": {},
   "outputs": [],
   "source": []
  }
 ],
 "metadata": {
  "kernelspec": {
   "display_name": "Python 3",
   "language": "python",
   "name": "python3"
  },
  "language_info": {
   "codemirror_mode": {
    "name": "ipython",
    "version": 3
   },
   "file_extension": ".py",
   "mimetype": "text/x-python",
   "name": "python",
   "nbconvert_exporter": "python",
   "pygments_lexer": "ipython3",
   "version": "3.7.3"
  }
 },
 "nbformat": 4,
 "nbformat_minor": 2
}
